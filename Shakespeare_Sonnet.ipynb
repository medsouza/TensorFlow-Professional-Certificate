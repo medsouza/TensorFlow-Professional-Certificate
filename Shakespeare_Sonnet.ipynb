{
  "nbformat": 4,
  "nbformat_minor": 0,
  "metadata": {
    "accelerator": "GPU",
    "colab": {
      "name": "Week4 - Exercise_Shakespeare_Answer.ipynb",
      "provenance": [],
      "toc_visible": true
    },
    "kernelspec": {
      "display_name": "Python 3",
      "name": "python3"
    }
  },
  "cells": [
    {
      "cell_type": "code",
      "metadata": {
        "id": "zX4Kg8DUTKWO"
      },
      "source": [
        "#@title Licensed under the Apache License, Version 2.0 (the \"License\");\n",
        "# you may not use this file except in compliance with the License.\n",
        "# You may obtain a copy of the License at\n",
        "#\n",
        "# https://www.apache.org/licenses/LICENSE-2.0\n",
        "#\n",
        "# Unless required by applicable law or agreed to in writing, software\n",
        "# distributed under the License is distributed on an \"AS IS\" BASIS,\n",
        "# WITHOUT WARRANTIES OR CONDITIONS OF ANY KIND, either express or implied.\n",
        "# See the License for the specific language governing permissions and\n",
        "# limitations under the License."
      ],
      "execution_count": null,
      "outputs": []
    },
    {
      "cell_type": "code",
      "metadata": {
        "id": "BOwsuGQQY9OL"
      },
      "source": [
        "from tensorflow.keras.preprocessing.sequence import pad_sequences\n",
        "from tensorflow.keras.layers import Embedding, LSTM, Dense, Dropout, Bidirectional\n",
        "from tensorflow.keras.preprocessing.text import Tokenizer\n",
        "from tensorflow.keras.models import Sequential\n",
        "from tensorflow.keras.optimizers import Adam\n",
        "from tensorflow.keras import regularizers\n",
        "import tensorflow.keras.utils as ku \n",
        "import numpy as np "
      ],
      "execution_count": null,
      "outputs": []
    },
    {
      "cell_type": "code",
      "metadata": {
        "id": "PRnDnCW-Z7qv",
        "colab": {
          "base_uri": "https://localhost:8080/"
        },
        "outputId": "5cef42a9-d36c-431e-891d-f7e74857182b"
      },
      "source": [
        "tokenizer = Tokenizer()\n",
        "!wget --no-check-certificate \\\n",
        "    https://storage.googleapis.com/laurencemoroney-blog.appspot.com/sonnets.txt \\\n",
        "    -O /tmp/sonnets.txt\n",
        "data = open('/tmp/sonnets.txt').read()\n",
        "\n",
        "corpus = data.lower().split(\"\\n\")\n",
        "\n",
        "\n",
        "tokenizer.fit_on_texts(corpus)\n",
        "total_words = len(tokenizer.word_index) + 1\n",
        "\n",
        "# create input sequences using list of tokens\n",
        "input_sequences = []\n",
        "for line in corpus:\n",
        "\ttoken_list = tokenizer.texts_to_sequences([line])[0]\n",
        "\tfor i in range(1, len(token_list)):\n",
        "\t\tn_gram_sequence = token_list[:i+1]\n",
        "\t\tinput_sequences.append(n_gram_sequence)\n",
        "\n",
        "\n",
        "# pad sequences \n",
        "max_sequence_len = max([len(x) for x in input_sequences])\n",
        "input_sequences = np.array(pad_sequences(input_sequences, maxlen=max_sequence_len, padding='pre'))\n",
        "\n",
        "# create predictors and label\n",
        "predictors, label = input_sequences[:,:-1],input_sequences[:,-1]\n",
        "\n",
        "label = ku.to_categorical(label, num_classes=total_words)"
      ],
      "execution_count": null,
      "outputs": [
        {
          "output_type": "stream",
          "name": "stdout",
          "text": [
            "--2021-09-01 14:29:45--  https://storage.googleapis.com/laurencemoroney-blog.appspot.com/sonnets.txt\n",
            "Resolving storage.googleapis.com (storage.googleapis.com)... 64.233.191.128, 173.194.74.128, 209.85.145.128, ...\n",
            "Connecting to storage.googleapis.com (storage.googleapis.com)|64.233.191.128|:443... connected.\n",
            "HTTP request sent, awaiting response... 200 OK\n",
            "Length: 93578 (91K) [text/plain]\n",
            "Saving to: ‘/tmp/sonnets.txt’\n",
            "\n",
            "\r/tmp/sonnets.txt      0%[                    ]       0  --.-KB/s               \r/tmp/sonnets.txt    100%[===================>]  91.38K  --.-KB/s    in 0.001s  \n",
            "\n",
            "2021-09-01 14:29:45 (83.5 MB/s) - ‘/tmp/sonnets.txt’ saved [93578/93578]\n",
            "\n"
          ]
        }
      ]
    },
    {
      "cell_type": "code",
      "metadata": {
        "id": "w9vH8Y59ajYL",
        "colab": {
          "base_uri": "https://localhost:8080/"
        },
        "outputId": "0fec722d-31af-41bd-9993-6fa36dbba207"
      },
      "source": [
        "model = Sequential()\n",
        "model.add(Embedding(total_words, 100, input_length=max_sequence_len-1))\n",
        "model.add(Bidirectional(LSTM(150, return_sequences = True)))\n",
        "model.add(Dropout(0.2))\n",
        "model.add(LSTM(100))\n",
        "model.add(Dense(total_words/2, activation='relu', kernel_regularizer=regularizers.l2(0.01)))\n",
        "model.add(Dense(total_words, activation='softmax'))\n",
        "model.compile(loss='categorical_crossentropy', optimizer='adam', metrics=['accuracy'])\n",
        "print(model.summary())\n"
      ],
      "execution_count": null,
      "outputs": [
        {
          "output_type": "stream",
          "name": "stdout",
          "text": [
            "Model: \"sequential\"\n",
            "_________________________________________________________________\n",
            "Layer (type)                 Output Shape              Param #   \n",
            "=================================================================\n",
            "embedding (Embedding)        (None, 10, 100)           321100    \n",
            "_________________________________________________________________\n",
            "bidirectional (Bidirectional (None, 10, 300)           301200    \n",
            "_________________________________________________________________\n",
            "dropout (Dropout)            (None, 10, 300)           0         \n",
            "_________________________________________________________________\n",
            "lstm_1 (LSTM)                (None, 100)               160400    \n",
            "_________________________________________________________________\n",
            "dense (Dense)                (None, 1605)              162105    \n",
            "_________________________________________________________________\n",
            "dense_1 (Dense)              (None, 3211)              5156866   \n",
            "=================================================================\n",
            "Total params: 6,101,671\n",
            "Trainable params: 6,101,671\n",
            "Non-trainable params: 0\n",
            "_________________________________________________________________\n",
            "None\n"
          ]
        }
      ]
    },
    {
      "cell_type": "code",
      "metadata": {
        "id": "AIg2f1HBxqof",
        "colab": {
          "base_uri": "https://localhost:8080/"
        },
        "outputId": "5701fc42-2fb4-4f29-b6ed-190a4e559cca"
      },
      "source": [
        " history = model.fit(predictors, label, epochs=100, verbose=1)"
      ],
      "execution_count": null,
      "outputs": [
        {
          "output_type": "stream",
          "name": "stdout",
          "text": [
            "Epoch 1/100\n",
            "484/484 [==============================] - 22s 25ms/step - loss: 6.8991 - accuracy: 0.0210\n",
            "Epoch 2/100\n",
            "484/484 [==============================] - 12s 25ms/step - loss: 6.4975 - accuracy: 0.0211\n",
            "Epoch 3/100\n",
            "484/484 [==============================] - 12s 24ms/step - loss: 6.3886 - accuracy: 0.0248\n",
            "Epoch 4/100\n",
            "484/484 [==============================] - 12s 24ms/step - loss: 6.2640 - accuracy: 0.0308\n",
            "Epoch 5/100\n",
            "484/484 [==============================] - 12s 25ms/step - loss: 6.1703 - accuracy: 0.0364\n",
            "Epoch 6/100\n",
            "484/484 [==============================] - 12s 25ms/step - loss: 6.0879 - accuracy: 0.0389\n",
            "Epoch 7/100\n",
            "484/484 [==============================] - 12s 24ms/step - loss: 6.0172 - accuracy: 0.0418\n",
            "Epoch 8/100\n",
            "484/484 [==============================] - 12s 24ms/step - loss: 5.9302 - accuracy: 0.0474\n",
            "Epoch 9/100\n",
            "484/484 [==============================] - 12s 25ms/step - loss: 5.8286 - accuracy: 0.0541\n",
            "Epoch 10/100\n",
            "484/484 [==============================] - 12s 24ms/step - loss: 5.7240 - accuracy: 0.0569\n",
            "Epoch 11/100\n",
            "484/484 [==============================] - 12s 24ms/step - loss: 5.6202 - accuracy: 0.0605\n",
            "Epoch 12/100\n",
            "484/484 [==============================] - 12s 24ms/step - loss: 5.5123 - accuracy: 0.0682\n",
            "Epoch 13/100\n",
            "484/484 [==============================] - 12s 25ms/step - loss: 5.4119 - accuracy: 0.0735\n",
            "Epoch 14/100\n",
            "484/484 [==============================] - 12s 24ms/step - loss: 5.3086 - accuracy: 0.0804\n",
            "Epoch 15/100\n",
            "484/484 [==============================] - 12s 24ms/step - loss: 5.2017 - accuracy: 0.0867\n",
            "Epoch 16/100\n",
            "484/484 [==============================] - 12s 24ms/step - loss: 5.1022 - accuracy: 0.0931\n",
            "Epoch 17/100\n",
            "484/484 [==============================] - 12s 24ms/step - loss: 4.9997 - accuracy: 0.1013\n",
            "Epoch 18/100\n",
            "484/484 [==============================] - 12s 24ms/step - loss: 4.9012 - accuracy: 0.1074\n",
            "Epoch 19/100\n",
            "484/484 [==============================] - 12s 24ms/step - loss: 4.7963 - accuracy: 0.1149\n",
            "Epoch 20/100\n",
            "484/484 [==============================] - 12s 24ms/step - loss: 4.6949 - accuracy: 0.1255\n",
            "Epoch 21/100\n",
            "484/484 [==============================] - 12s 24ms/step - loss: 4.5944 - accuracy: 0.1375\n",
            "Epoch 22/100\n",
            "484/484 [==============================] - 12s 24ms/step - loss: 4.4910 - accuracy: 0.1462\n",
            "Epoch 23/100\n",
            "484/484 [==============================] - 12s 24ms/step - loss: 4.3822 - accuracy: 0.1594\n",
            "Epoch 24/100\n",
            "484/484 [==============================] - 12s 25ms/step - loss: 4.2841 - accuracy: 0.1700\n",
            "Epoch 25/100\n",
            "484/484 [==============================] - 12s 24ms/step - loss: 4.1857 - accuracy: 0.1806\n",
            "Epoch 26/100\n",
            "484/484 [==============================] - 12s 24ms/step - loss: 4.0791 - accuracy: 0.1997\n",
            "Epoch 27/100\n",
            "484/484 [==============================] - 12s 24ms/step - loss: 3.9785 - accuracy: 0.2134\n",
            "Epoch 28/100\n",
            "484/484 [==============================] - 12s 24ms/step - loss: 3.8861 - accuracy: 0.2258\n",
            "Epoch 29/100\n",
            "484/484 [==============================] - 12s 24ms/step - loss: 3.7829 - accuracy: 0.2466\n",
            "Epoch 30/100\n",
            "484/484 [==============================] - 12s 24ms/step - loss: 3.6927 - accuracy: 0.2608\n",
            "Epoch 31/100\n",
            "484/484 [==============================] - 12s 24ms/step - loss: 3.6015 - accuracy: 0.2744\n",
            "Epoch 32/100\n",
            "484/484 [==============================] - 12s 24ms/step - loss: 3.5152 - accuracy: 0.2980\n",
            "Epoch 33/100\n",
            "484/484 [==============================] - 12s 24ms/step - loss: 3.4266 - accuracy: 0.3135\n",
            "Epoch 34/100\n",
            "484/484 [==============================] - 12s 24ms/step - loss: 3.3433 - accuracy: 0.3346\n",
            "Epoch 35/100\n",
            "484/484 [==============================] - 12s 24ms/step - loss: 3.2632 - accuracy: 0.3531\n",
            "Epoch 36/100\n",
            "484/484 [==============================] - 12s 24ms/step - loss: 3.1924 - accuracy: 0.3673\n",
            "Epoch 37/100\n",
            "484/484 [==============================] - 12s 24ms/step - loss: 3.1069 - accuracy: 0.3882\n",
            "Epoch 38/100\n",
            "484/484 [==============================] - 12s 24ms/step - loss: 3.0353 - accuracy: 0.4044\n",
            "Epoch 39/100\n",
            "484/484 [==============================] - 11s 23ms/step - loss: 2.9568 - accuracy: 0.4211\n",
            "Epoch 40/100\n",
            "484/484 [==============================] - 11s 23ms/step - loss: 2.8939 - accuracy: 0.4351\n",
            "Epoch 41/100\n",
            "484/484 [==============================] - 11s 23ms/step - loss: 2.8329 - accuracy: 0.4488\n",
            "Epoch 42/100\n",
            "484/484 [==============================] - 11s 23ms/step - loss: 2.7619 - accuracy: 0.4618\n",
            "Epoch 43/100\n",
            "484/484 [==============================] - 11s 23ms/step - loss: 2.6952 - accuracy: 0.4794\n",
            "Epoch 44/100\n",
            "484/484 [==============================] - 11s 24ms/step - loss: 2.6436 - accuracy: 0.4944\n",
            "Epoch 45/100\n",
            "484/484 [==============================] - 11s 23ms/step - loss: 2.5817 - accuracy: 0.5001\n",
            "Epoch 46/100\n",
            "484/484 [==============================] - 11s 23ms/step - loss: 2.5194 - accuracy: 0.5206\n",
            "Epoch 47/100\n",
            "484/484 [==============================] - 11s 23ms/step - loss: 2.4737 - accuracy: 0.5305\n",
            "Epoch 48/100\n",
            "484/484 [==============================] - 11s 23ms/step - loss: 2.4242 - accuracy: 0.5412\n",
            "Epoch 49/100\n",
            "484/484 [==============================] - 11s 23ms/step - loss: 2.3624 - accuracy: 0.5562\n",
            "Epoch 50/100\n",
            "484/484 [==============================] - 11s 23ms/step - loss: 2.3173 - accuracy: 0.5682\n",
            "Epoch 51/100\n",
            "484/484 [==============================] - 11s 24ms/step - loss: 2.2760 - accuracy: 0.5775\n",
            "Epoch 52/100\n",
            "484/484 [==============================] - 11s 23ms/step - loss: 2.2218 - accuracy: 0.5876\n",
            "Epoch 53/100\n",
            "484/484 [==============================] - 11s 23ms/step - loss: 2.1865 - accuracy: 0.5969\n",
            "Epoch 54/100\n",
            "484/484 [==============================] - 11s 23ms/step - loss: 2.1423 - accuracy: 0.6103\n",
            "Epoch 55/100\n",
            "484/484 [==============================] - 11s 23ms/step - loss: 2.0894 - accuracy: 0.6195\n",
            "Epoch 56/100\n",
            "484/484 [==============================] - 11s 23ms/step - loss: 2.0576 - accuracy: 0.6226\n",
            "Epoch 57/100\n",
            "484/484 [==============================] - 11s 23ms/step - loss: 2.0314 - accuracy: 0.6290\n",
            "Epoch 58/100\n",
            "484/484 [==============================] - 11s 23ms/step - loss: 1.9887 - accuracy: 0.6403\n",
            "Epoch 59/100\n",
            "484/484 [==============================] - 11s 23ms/step - loss: 1.9525 - accuracy: 0.6451\n",
            "Epoch 60/100\n",
            "484/484 [==============================] - 11s 23ms/step - loss: 1.9170 - accuracy: 0.6562\n",
            "Epoch 61/100\n",
            "484/484 [==============================] - 11s 23ms/step - loss: 1.8791 - accuracy: 0.6652\n",
            "Epoch 62/100\n",
            "484/484 [==============================] - 11s 23ms/step - loss: 1.8388 - accuracy: 0.6759\n",
            "Epoch 63/100\n",
            "484/484 [==============================] - 11s 23ms/step - loss: 1.8094 - accuracy: 0.6818\n",
            "Epoch 64/100\n",
            "484/484 [==============================] - 11s 23ms/step - loss: 1.7783 - accuracy: 0.6861\n",
            "Epoch 65/100\n",
            "484/484 [==============================] - 11s 23ms/step - loss: 1.7582 - accuracy: 0.6886\n",
            "Epoch 66/100\n",
            "484/484 [==============================] - 11s 23ms/step - loss: 1.7324 - accuracy: 0.6910\n",
            "Epoch 67/100\n",
            "484/484 [==============================] - 11s 23ms/step - loss: 1.7139 - accuracy: 0.6982\n",
            "Epoch 68/100\n",
            "484/484 [==============================] - 11s 23ms/step - loss: 1.6737 - accuracy: 0.7070\n",
            "Epoch 69/100\n",
            "484/484 [==============================] - 11s 23ms/step - loss: 1.6444 - accuracy: 0.7119\n",
            "Epoch 70/100\n",
            "484/484 [==============================] - 11s 23ms/step - loss: 1.6201 - accuracy: 0.7155\n",
            "Epoch 71/100\n",
            "484/484 [==============================] - 11s 23ms/step - loss: 1.6133 - accuracy: 0.7151\n",
            "Epoch 72/100\n",
            "484/484 [==============================] - 11s 23ms/step - loss: 1.5846 - accuracy: 0.7240\n",
            "Epoch 73/100\n",
            "484/484 [==============================] - 11s 23ms/step - loss: 1.5589 - accuracy: 0.7273\n",
            "Epoch 74/100\n",
            "484/484 [==============================] - 11s 23ms/step - loss: 1.5251 - accuracy: 0.7379\n",
            "Epoch 75/100\n",
            "484/484 [==============================] - 11s 23ms/step - loss: 1.5148 - accuracy: 0.7381\n",
            "Epoch 76/100\n",
            "484/484 [==============================] - 11s 23ms/step - loss: 1.4930 - accuracy: 0.7419\n",
            "Epoch 77/100\n",
            "484/484 [==============================] - 11s 23ms/step - loss: 1.4871 - accuracy: 0.7411\n",
            "Epoch 78/100\n",
            "484/484 [==============================] - 11s 23ms/step - loss: 1.4690 - accuracy: 0.7458\n",
            "Epoch 79/100\n",
            "484/484 [==============================] - 11s 23ms/step - loss: 1.4373 - accuracy: 0.7534\n",
            "Epoch 80/100\n",
            "484/484 [==============================] - 11s 23ms/step - loss: 1.4241 - accuracy: 0.7566\n",
            "Epoch 81/100\n",
            "484/484 [==============================] - 11s 23ms/step - loss: 1.4111 - accuracy: 0.7533\n",
            "Epoch 82/100\n",
            "484/484 [==============================] - 11s 23ms/step - loss: 1.3896 - accuracy: 0.7583\n",
            "Epoch 83/100\n",
            "484/484 [==============================] - 11s 23ms/step - loss: 1.3795 - accuracy: 0.7621\n",
            "Epoch 84/100\n",
            "484/484 [==============================] - 11s 23ms/step - loss: 1.3569 - accuracy: 0.7660\n",
            "Epoch 85/100\n",
            "484/484 [==============================] - 11s 23ms/step - loss: 1.3383 - accuracy: 0.7711\n",
            "Epoch 86/100\n",
            "484/484 [==============================] - 11s 23ms/step - loss: 1.3235 - accuracy: 0.7760\n",
            "Epoch 87/100\n",
            "484/484 [==============================] - 12s 24ms/step - loss: 1.3179 - accuracy: 0.7745\n",
            "Epoch 88/100\n",
            "484/484 [==============================] - 11s 23ms/step - loss: 1.2969 - accuracy: 0.7755\n",
            "Epoch 89/100\n",
            "484/484 [==============================] - 11s 23ms/step - loss: 1.3034 - accuracy: 0.7732\n",
            "Epoch 90/100\n",
            "484/484 [==============================] - 11s 24ms/step - loss: 1.2953 - accuracy: 0.7733\n",
            "Epoch 91/100\n",
            "484/484 [==============================] - 11s 23ms/step - loss: 1.2731 - accuracy: 0.7788\n",
            "Epoch 92/100\n",
            "484/484 [==============================] - 11s 23ms/step - loss: 1.2493 - accuracy: 0.7848\n",
            "Epoch 93/100\n",
            "484/484 [==============================] - 11s 23ms/step - loss: 1.2229 - accuracy: 0.7921\n",
            "Epoch 94/100\n",
            "484/484 [==============================] - 11s 23ms/step - loss: 1.2302 - accuracy: 0.7880\n",
            "Epoch 95/100\n",
            "484/484 [==============================] - 11s 23ms/step - loss: 1.2159 - accuracy: 0.7891\n",
            "Epoch 96/100\n",
            "484/484 [==============================] - 11s 24ms/step - loss: 1.2174 - accuracy: 0.7864\n",
            "Epoch 97/100\n",
            "484/484 [==============================] - 11s 23ms/step - loss: 1.2184 - accuracy: 0.7841\n",
            "Epoch 98/100\n",
            "484/484 [==============================] - 11s 23ms/step - loss: 1.1918 - accuracy: 0.7931\n",
            "Epoch 99/100\n",
            "484/484 [==============================] - 11s 24ms/step - loss: 1.1775 - accuracy: 0.7974\n",
            "Epoch 100/100\n",
            "484/484 [==============================] - 11s 24ms/step - loss: 1.1643 - accuracy: 0.7980\n"
          ]
        }
      ]
    },
    {
      "cell_type": "code",
      "metadata": {
        "id": "1fXTEO3GJ282",
        "colab": {
          "base_uri": "https://localhost:8080/",
          "height": 545
        },
        "outputId": "39a807e5-2306-467d-8a89-6bcd03ba0f72"
      },
      "source": [
        "import matplotlib.pyplot as plt\n",
        "acc = history.history['accuracy']\n",
        "loss = history.history['loss']\n",
        "\n",
        "epochs = range(len(acc))\n",
        "\n",
        "plt.plot(epochs, acc, 'b', label='Training accuracy')\n",
        "plt.title('Training accuracy')\n",
        "\n",
        "plt.figure()\n",
        "\n",
        "plt.plot(epochs, loss, 'b', label='Training Loss')\n",
        "plt.title('Training loss')\n",
        "plt.legend()\n",
        "\n",
        "plt.show()"
      ],
      "execution_count": null,
      "outputs": [
        {
          "output_type": "display_data",
          "data": {
            "image/png": "[encoded data removed]",
            "text/plain": [
              "<Figure size 432x288 with 1 Axes>"
            ]
          },
          "metadata": {
            "needs_background": "light"
          }
        },
        {
          "output_type": "display_data",
          "data": {
            "image/png": "[encoded data removed]",
            "text/plain": [
              "<Figure size 432x288 with 1 Axes>"
            ]
          },
          "metadata": {
            "needs_background": "light"
          }
        }
      ]
    },
    {
      "cell_type": "code",
      "metadata": {
        "id": "6Vc6PHgxa6Hm",
        "colab": {
          "base_uri": "https://localhost:8080/"
        },
        "outputId": "d8b91df4-313e-4787-82c6-fd1a3cb74d62"
      },
      "source": [
        "seed_text = \"Cometh to me thee quite quaint mistress\"\n",
        "next_words = 100\n",
        "  \n",
        "for _ in range(next_words):\n",
        "\ttoken_list = tokenizer.texts_to_sequences([seed_text])[0]\n",
        "\ttoken_list = pad_sequences([token_list], maxlen=max_sequence_len-1, padding='pre')\n",
        "\tpredicted = np.argmax(model.predict(token_list, verbose=0),axis=1)\n",
        "\toutput_word = \"\"\n",
        "\tfor word, index in tokenizer.word_index.items():\n",
        "\t\tif index == predicted:\n",
        "\t\t\toutput_word = word\n",
        "\t\t\tbreak\n",
        "\tseed_text += \" \" + output_word\n",
        "print(seed_text)"
      ],
      "execution_count": null,
      "outputs": [
        {
          "output_type": "stream",
          "name": "stdout",
          "text": [
            "Cometh to me thee quite quaint mistress those assured care doth heaven goes thee bearing loving hand art out fair women's cloying level advance doth take other know me live die thine untrue evident evident bright best shine age new end true needing woe woe woe woe ' lie do so due have she am heaven she hast me saith mine eye shall loved your part untrue none level can write true best thee best evident untrue 'will ' may bring mine eye so love thy lovely rage must be you untrue untrue twain dead best ' say so slain bright time blot love's truth a steep\n"
          ]
        }
      ]
    }
  ]
}